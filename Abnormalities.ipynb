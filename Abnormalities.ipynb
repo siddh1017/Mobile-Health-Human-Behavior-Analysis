{
 "cells": [
  {
   "cell_type": "code",
   "execution_count": 5,
   "id": "dbc2f073",
   "metadata": {},
   "outputs": [],
   "source": [
    "import numpy as np\n",
    "import pandas as pd\n",
    "import seaborn as sns\n",
    "import matplotlib.pyplot as plt\n",
    "%matplotlib inline"
   ]
  },
  {
   "cell_type": "code",
   "execution_count": 6,
   "id": "5e273185",
   "metadata": {},
   "outputs": [],
   "source": [
    "df1=pd.read_csv('mHealth_subject1.csv')\n",
    "df2=pd.read_csv('mHealth_subject2.csv')\n",
    "df3=pd.read_csv('mHealth_subject3.csv')\n",
    "df4=pd.read_csv('mHealth_subject4.csv')\n",
    "df5=pd.read_csv('mHealth_subject5.csv')\n",
    "df6=pd.read_csv('mHealth_subject6.csv')\n",
    "df7=pd.read_csv('mHealth_subject7.csv')\n",
    "df8=pd.read_csv('mHealth_subject8.csv')\n",
    "df9=pd.read_csv('mHealth_subject9.csv')\n",
    "df10=pd.read_csv('mHealth_subject10.csv')"
   ]
  },
  {
   "cell_type": "code",
   "execution_count": 7,
   "id": "68f77ee8",
   "metadata": {},
   "outputs": [],
   "source": [
    "df1[\"subject\"]=[\"subject1\"]*len(df1)\n",
    "df1=df1[:-1]\n",
    "df2[\"subject\"]=[\"subject2\"]*len(df2)\n",
    "df2=df2[:-1]\n",
    "df3[\"subject\"]=[\"subject3\"]*len(df3)\n",
    "df3=df3[:-1]\n",
    "df4[\"subject\"]=[\"subject4\"]*len(df4)\n",
    "df4=df4[:-1]\n",
    "df5[\"subject\"]=[\"subject5\"]*len(df5)\n",
    "df5=df5[:-1]\n",
    "df6[\"subject\"]=[\"subject6\"]*len(df6)\n",
    "df6=df6[:-1]\n",
    "df7[\"subject\"]=[\"subject7\"]*len(df7)\n",
    "df7=df7[:-1]\n",
    "df8[\"subject\"]=[\"subject8\"]*len(df8)\n",
    "df8=df8[:-1]\n",
    "df9[\"subject\"]=[\"subject9\"]*len(df9)\n",
    "df9=df9[:-1]\n",
    "df10[\"subject\"]=[\"subject10\"]*len(df10)\n",
    "df10=df10[:-1]"
   ]
  },
  {
   "cell_type": "code",
   "execution_count": 8,
   "id": "14ee9101",
   "metadata": {},
   "outputs": [],
   "source": [
    "# Renaming acceleration and gyro columns\n",
    "def renameAccelerationAndGyroColumns(df):\n",
    "    df.rename(columns={\n",
    "        'acceleration from the left-ankle sensor (X axis)':'alx',\n",
    "        'acceleration from the left-ankle sensor (Y axis)':'aly',\n",
    "        'acceleration from the left-ankle sensor (Z axis)':'alz',\n",
    "        'gyro from the left-ankle sensor (X axis)':'glx',\n",
    "        'gyro from the left-ankle sensor (Y axis)':'gly',\n",
    "        'gyro from the left-ankle sensor (Z axis)':'glz',\n",
    "        'acceleration from the right-lower-arm sensor (X axis)':'arx',\n",
    "        'acceleration from the right-lower-arm sensor (Y axis)':'ary',\n",
    "        'acceleration from the right-lower-arm sensor (Z axis)':'arz',\n",
    "        'gyro from the right-lower-arm sensor (X axis)':'grx',\n",
    "        'gyro from the right-lower-arm sensor (Y axis)':'gry',\n",
    "        'gyro from the right-lower-arm sensor (Z axis)':'grz',\n",
    "        'Label':'Activity'\n",
    "    },inplace=True)\n",
    "renameAccelerationAndGyroColumns(df1)\n",
    "renameAccelerationAndGyroColumns(df2)\n",
    "renameAccelerationAndGyroColumns(df3)\n",
    "renameAccelerationAndGyroColumns(df4)\n",
    "renameAccelerationAndGyroColumns(df5)\n",
    "renameAccelerationAndGyroColumns(df6)\n",
    "renameAccelerationAndGyroColumns(df7)\n",
    "renameAccelerationAndGyroColumns(df8)\n",
    "renameAccelerationAndGyroColumns(df9)\n",
    "renameAccelerationAndGyroColumns(df10)"
   ]
  },
  {
   "cell_type": "code",
   "execution_count": 9,
   "id": "e3df78b4",
   "metadata": {},
   "outputs": [],
   "source": [
    "df=pd.concat([df1,df2,df3,df4,df5,df6,df7,df8,df9,df10],ignore_index=True)"
   ]
  },
  {
   "cell_type": "markdown",
   "id": "20fb1b69",
   "metadata": {},
   "source": [
    "### Activity Specific Column Outliers"
   ]
  },
  {
   "cell_type": "code",
   "execution_count": 10,
   "id": "da973608",
   "metadata": {},
   "outputs": [
    {
     "data": {
      "text/plain": [
       "[[('electrocardiogram signal (lead 1)', 4258),\n",
       "  ('magnetometer from the right-lower-arm sensor (X axis)', 3525)],\n",
       " [('aly', 5879),\n",
       "  ('magnetometer from the right-lower-arm sensor (Z axis)', 4516)],\n",
       " [('arz', 4242), ('electrocardiogram signal (lead 1)', 3872)],\n",
       " [('alz', 5034), ('electrocardiogram signal (lead 2)', 3828)],\n",
       " [('electrocardiogram signal (lead 1)', 5451),\n",
       "  ('electrocardiogram signal (lead 2)', 5095)],\n",
       " [('electrocardiogram signal (lead 2)', 3745),\n",
       "  ('electrocardiogram signal (lead 1)', 3023)],\n",
       " [('magnetometer from the right-lower-arm sensor (Z axis)', 4468),\n",
       "  ('electrocardiogram signal (lead 2)', 4180)],\n",
       " [('electrocardiogram signal (lead 1)', 3962),\n",
       "  ('electrocardiogram signal (lead 2)', 3385)],\n",
       " [('gry', 6030), ('glz', 3910)],\n",
       " [('electrocardiogram signal (lead 1)', 4459), ('arz', 3063)],\n",
       " [('electrocardiogram signal (lead 2)', 4583), ('grz', 3887)],\n",
       " [('electrocardiogram signal (lead 2)', 1286),\n",
       "  ('acceleration from the chest sensor (Z axis)', 1212)]]"
      ]
     },
     "execution_count": 10,
     "metadata": {},
     "output_type": "execute_result"
    }
   ],
   "source": [
    "outliers=[]\n",
    "for i in range(1,13):\n",
    "    DF=df[df['Activity']==i]\n",
    "    outlier_columns=[]\n",
    "    for column in DF.columns[:-2]:\n",
    "        outlier_threshold=1.5\n",
    "        Q1=DF[column].quantile(0.25)\n",
    "        Q3=DF[column].quantile(0.75)\n",
    "        IQR=Q3-Q1\n",
    "        lower_bound=Q1-outlier_threshold*IQR\n",
    "        upper_bound=Q3+outlier_threshold*IQR\n",
    "        outlier_columns.append((column,len(DF[(DF[column]<lower_bound) | (DF[column]>upper_bound)])))\n",
    "    outlier_columns.sort(key=lambda x:-x[1])\n",
    "    outliers.append(outlier_columns[:2])\n",
    "outliers"
   ]
  },
  {
   "cell_type": "markdown",
   "id": "63389240",
   "metadata": {},
   "source": [
    "### Standing Still"
   ]
  },
  {
   "cell_type": "code",
   "execution_count": 12,
   "id": "861fd26e",
   "metadata": {},
   "outputs": [
    {
     "data": {
      "text/plain": [
       "<AxesSubplot:>"
      ]
     },
     "execution_count": 12,
     "metadata": {},
     "output_type": "execute_result"
    },
    {
     "data": {
      "image/png": "[encoded data removed]",
      "text/plain": [
       "<Figure size 432x288 with 1 Axes>"
      ]
     },
     "metadata": {
      "needs_background": "light"
     },
     "output_type": "display_data"
    }
   ],
   "source": [
    "df[df['Activity']==1].loc[:,[\"electrocardiogram signal (lead 1)\",\"magnetometer from the right-lower-arm sensor (X axis)\"]].boxplot()"
   ]
  },
  {
   "cell_type": "markdown",
   "id": "b1f0a71b",
   "metadata": {},
   "source": [
    "### Sitting and relaxing"
   ]
  },
  {
   "cell_type": "code",
   "execution_count": 13,
   "id": "78321fa6",
   "metadata": {},
   "outputs": [
    {
     "data": {
      "text/plain": [
       "<AxesSubplot:>"
      ]
     },
     "execution_count": 13,
     "metadata": {},
     "output_type": "execute_result"
    },
    {
     "data": {
      "image/png": "[encoded data removed]",
      "text/plain": [
       "<Figure size 432x288 with 1 Axes>"
      ]
     },
     "metadata": {
      "needs_background": "light"
     },
     "output_type": "display_data"
    }
   ],
   "source": [
    "df[df['Activity']==2].loc[:,[\"aly\",\"magnetometer from the right-lower-arm sensor (Z axis)\"]].boxplot()"
   ]
  },
  {
   "cell_type": "markdown",
   "id": "527f1855",
   "metadata": {},
   "source": [
    "### Lying down"
   ]
  },
  {
   "cell_type": "code",
   "execution_count": 14,
   "id": "3106d910",
   "metadata": {},
   "outputs": [
    {
     "data": {
      "text/plain": [
       "<AxesSubplot:>"
      ]
     },
     "execution_count": 14,
     "metadata": {},
     "output_type": "execute_result"
    },
    {
     "data": {
      "image/png": "[encoded data removed]",
      "text/plain": [
       "<Figure size 432x288 with 1 Axes>"
      ]
     },
     "metadata": {
      "needs_background": "light"
     },
     "output_type": "display_data"
    }
   ],
   "source": [
    "df[df['Activity']==3].loc[:,[\"arz\",\"electrocardiogram signal (lead 1)\"]].boxplot()"
   ]
  },
  {
   "cell_type": "markdown",
   "id": "0fd1b77a",
   "metadata": {},
   "source": [
    "### Walking"
   ]
  },
  {
   "cell_type": "code",
   "execution_count": 15,
   "id": "00655ecc",
   "metadata": {},
   "outputs": [
    {
     "data": {
      "text/plain": [
       "<AxesSubplot:>"
      ]
     },
     "execution_count": 15,
     "metadata": {},
     "output_type": "execute_result"
    },
    {
     "data": {
      "image/png": "[encoded data removed]",
      "text/plain": [
       "<Figure size 432x288 with 1 Axes>"
      ]
     },
     "metadata": {
      "needs_background": "light"
     },
     "output_type": "display_data"
    }
   ],
   "source": [
    "df[df['Activity']==4].loc[:,[\"alz\",\"electrocardiogram signal (lead 2)\"]].boxplot()"
   ]
  },
  {
   "cell_type": "markdown",
   "id": "143225f7",
   "metadata": {},
   "source": [
    "### Climbing stairs"
   ]
  },
  {
   "cell_type": "code",
   "execution_count": 16,
   "id": "e39ea581",
   "metadata": {},
   "outputs": [
    {
     "data": {
      "text/plain": [
       "<AxesSubplot:>"
      ]
     },
     "execution_count": 16,
     "metadata": {},
     "output_type": "execute_result"
    },
    {
     "data": {
      "image/png": "[encoded data removed]",
      "text/plain": [
       "<Figure size 432x288 with 1 Axes>"
      ]
     },
     "metadata": {
      "needs_background": "light"
     },
     "output_type": "display_data"
    }
   ],
   "source": [
    "df[df['Activity']==5].loc[:,[\"electrocardiogram signal (lead 1)\",\"electrocardiogram signal (lead 2)\"]].boxplot()"
   ]
  },
  {
   "cell_type": "markdown",
   "id": "4635a5eb",
   "metadata": {},
   "source": [
    "### Waist bends forward"
   ]
  },
  {
   "cell_type": "code",
   "execution_count": 17,
   "id": "e25a74e5",
   "metadata": {},
   "outputs": [
    {
     "data": {
      "text/plain": [
       "<AxesSubplot:>"
      ]
     },
     "execution_count": 17,
     "metadata": {},
     "output_type": "execute_result"
    },
    {
     "data": {
      "image/png": "[encoded data removed]",
      "text/plain": [
       "<Figure size 432x288 with 1 Axes>"
      ]
     },
     "metadata": {
      "needs_background": "light"
     },
     "output_type": "display_data"
    }
   ],
   "source": [
    "df[df['Activity']==6].loc[:,[\"electrocardiogram signal (lead 2)\",\"electrocardiogram signal (lead 1)\"]].boxplot()"
   ]
  },
  {
   "cell_type": "markdown",
   "id": "7d629913",
   "metadata": {},
   "source": [
    "### Frontal elevation of arms"
   ]
  },
  {
   "cell_type": "code",
   "execution_count": 19,
   "id": "50ad690a",
   "metadata": {},
   "outputs": [
    {
     "data": {
      "text/plain": [
       "<AxesSubplot:>"
      ]
     },
     "execution_count": 19,
     "metadata": {},
     "output_type": "execute_result"
    },
    {
     "data": {
      "image/png": "[encoded data removed]",
      "text/plain": [
       "<Figure size 432x288 with 1 Axes>"
      ]
     },
     "metadata": {
      "needs_background": "light"
     },
     "output_type": "display_data"
    }
   ],
   "source": [
    "df[df['Activity']==7].loc[:,[\"magnetometer from the right-lower-arm sensor (Z axis)\",\"electrocardiogram signal (lead 2)\"]].boxplot()"
   ]
  },
  {
   "cell_type": "markdown",
   "id": "4c412f92",
   "metadata": {},
   "source": [
    "### Knees bending (crouching)"
   ]
  },
  {
   "cell_type": "code",
   "execution_count": 20,
   "id": "5e216805",
   "metadata": {},
   "outputs": [
    {
     "data": {
      "text/plain": [
       "<AxesSubplot:>"
      ]
     },
     "execution_count": 20,
     "metadata": {},
     "output_type": "execute_result"
    },
    {
     "data": {
      "image/png": "[encoded data removed]",
      "text/plain": [
       "<Figure size 432x288 with 1 Axes>"
      ]
     },
     "metadata": {
      "needs_background": "light"
     },
     "output_type": "display_data"
    }
   ],
   "source": [
    "df[df['Activity']==8].loc[:,[\"electrocardiogram signal (lead 1)\",\"electrocardiogram signal (lead 2)\"]].boxplot()"
   ]
  },
  {
   "cell_type": "markdown",
   "id": "470c2b3a",
   "metadata": {},
   "source": [
    "### Cycling"
   ]
  },
  {
   "cell_type": "code",
   "execution_count": 21,
   "id": "1f7afc7a",
   "metadata": {},
   "outputs": [
    {
     "data": {
      "text/plain": [
       "<AxesSubplot:>"
      ]
     },
     "execution_count": 21,
     "metadata": {},
     "output_type": "execute_result"
    },
    {
     "data": {
      "image/png": "[encoded data removed]",
      "text/plain": [
       "<Figure size 432x288 with 1 Axes>"
      ]
     },
     "metadata": {
      "needs_background": "light"
     },
     "output_type": "display_data"
    }
   ],
   "source": [
    "df[df['Activity']==9].loc[:,[\"gry\",\"glz\"]].boxplot()"
   ]
  },
  {
   "cell_type": "markdown",
   "id": "42e7c92b",
   "metadata": {},
   "source": [
    "### Jogging"
   ]
  },
  {
   "cell_type": "code",
   "execution_count": 22,
   "id": "7d93f115",
   "metadata": {},
   "outputs": [
    {
     "data": {
      "text/plain": [
       "<AxesSubplot:>"
      ]
     },
     "execution_count": 22,
     "metadata": {},
     "output_type": "execute_result"
    },
    {
     "data": {
      "image/png": "[encoded data removed]",
      "text/plain": [
       "<Figure size 432x288 with 1 Axes>"
      ]
     },
     "metadata": {
      "needs_background": "light"
     },
     "output_type": "display_data"
    }
   ],
   "source": [
    "df[df['Activity']==10].loc[:,[\"electrocardiogram signal (lead 1)\",\"arz\"]].boxplot()"
   ]
  },
  {
   "cell_type": "markdown",
   "id": "3db6e24f",
   "metadata": {},
   "source": [
    "### Running"
   ]
  },
  {
   "cell_type": "code",
   "execution_count": 23,
   "id": "f5cc4aea",
   "metadata": {},
   "outputs": [
    {
     "data": {
      "text/plain": [
       "<AxesSubplot:>"
      ]
     },
     "execution_count": 23,
     "metadata": {},
     "output_type": "execute_result"
    },
    {
     "data": {
      "image/png": "[encoded data removed]",
      "text/plain": [
       "<Figure size 432x288 with 1 Axes>"
      ]
     },
     "metadata": {
      "needs_background": "light"
     },
     "output_type": "display_data"
    }
   ],
   "source": [
    "df[df['Activity']==11].loc[:,[\"electrocardiogram signal (lead 2)\",\"grz\"]].boxplot()"
   ]
  },
  {
   "cell_type": "markdown",
   "id": "61519811",
   "metadata": {},
   "source": [
    "### Jump front & back"
   ]
  },
  {
   "cell_type": "code",
   "execution_count": 24,
   "id": "0616267d",
   "metadata": {},
   "outputs": [
    {
     "data": {
      "text/plain": [
       "<AxesSubplot:>"
      ]
     },
     "execution_count": 24,
     "metadata": {},
     "output_type": "execute_result"
    },
    {
     "data": {
      "image/png": "[encoded data removed]",
      "text/plain": [
       "<Figure size 432x288 with 1 Axes>"
      ]
     },
     "metadata": {
      "needs_background": "light"
     },
     "output_type": "display_data"
    }
   ],
   "source": [
    "df[df['Activity']==12].loc[:,[\"electrocardiogram signal (lead 2)\",\"acceleration from the chest sensor (Z axis)\"]].boxplot()"
   ]
  },
  {
   "cell_type": "markdown",
   "id": "963abbe9",
   "metadata": {},
   "source": [
    "### --------------------------------------------------------------------------------------------------------------------------------------------------------------"
   ]
  },
  {
   "cell_type": "markdown",
   "id": "430b0684",
   "metadata": {},
   "source": [
    "### Activity specific hazards and possible solutions"
   ]
  },
  {
   "cell_type": "markdown",
   "id": "3849acfa",
   "metadata": {},
   "source": [
    "### Standing still\n",
    "#### issues:\n",
    "a.\telectrocardiogram signal : facing potential issues such as arrhythmias, which can lead to irregular heart rhythms, or underlying heart conditions that require medical evaluation.\n",
    "\n",
    "b.\tmagnetometer signal from the right-lower-arm (X-axis) : Sudden spikes in the magnetometer signal from the right-lower-arm (X-axis) may suggest potential health issues, including muscle disorders, neurological conditions, or involuntary muscle contractions. A medical evaluation is advisable to determine the underlying cause.\n",
    "\n",
    "#### Preventive measures:\n",
    "a.\telectrocardiogram signal : The person should consult a healthcare professional for a thorough cardiac evaluation and follow any recommended treatment or lifestyle changes to address the underlying issue. Maintaining a heart-healthy lifestyle with regular exercise and a balanced diet can also help.\n",
    "\n",
    "b.\tmagnetometer signal from the right-lower-arm (X-axis) : Consult a healthcare professional for evaluation and avoid exposure to strong magnetic fields."
   ]
  },
  {
   "cell_type": "markdown",
   "id": "29aefba1",
   "metadata": {},
   "source": [
    "### Sitting and relaxing\n",
    "#### issues:\n",
    "a.\tacceleration from the left-ankle sensor (Y axis) : Sudden spikes in acceleration from the left-ankle sensor (Y-axis) while sitting and relaxing might indicate potential health issues, including involuntary muscle movements, tremors, or neurological conditions. A medical evaluation is recommended to determine the underlying cause.\n",
    "\n",
    "b.\tmagnetometer from the right-lower-arm sensor (Z axis) : Sudden spikes in the magnetometer signal from the right-lower-arm sensor (Z-axis) while sitting and relaxing may suggest potential health issues related to muscle twitches, spasms, or neurological disturbances, requiring medical assessment for diagnosis and intervention.\n",
    "#### Preventive measures:\n",
    "a.\tacceleration from the left-ankle sensor (Y axis) : If experiencing unexplained spikes in acceleration, seek a medical evaluation for diagnosis and guidance on appropriate precautions or treatments.\n",
    "\n",
    "b.\tmagnetometer from the right-lower-arm sensor (Z axis) : In case of unexplained spikes in the magnetometer signal, consult a healthcare professional for evaluation and follow their guidance for necessary precautions or treatments."
   ]
  },
  {
   "cell_type": "markdown",
   "id": "5825e9f4",
   "metadata": {},
   "source": [
    "### Lying down\n",
    "#### issues:\n",
    "a.\tacceleration from the right-lower-arm sensor (Z axis) : Indicate potential health issues related to muscle spasms, tremors, or neurological conditions, requiring medical evaluation for diagnosis and treatment.\n",
    "\n",
    "b.\telectrocardiogram signal (lead 1) :  An abnormal electrocardiogram (ECG or EKG) signal in lead I when lying down can indicate various health issues related to the electrical activity of the heart. Lead I records electrical signals that travel from the right arm to the left arm, so abnormalities in this lead can provide valuable information about cardiac health. Some of the potential health hazards include Myocardial Infarction (Heart Attack), inflammation of the pericardium (the sac surrounding the heart) and electrolyte Imbalances\n",
    "\n",
    "#### Preventive measures:\n",
    "a.\tacceleration from the right-lower-arm sensor (Z axis) : If experiencing unexplained spikes in acceleration, consult a healthcare professional for assessment and follow their recommendations for necessary precautions or interventions.\n",
    "\n",
    "b.\telectrocardiogram signal (lead 1) :  Preventing the health issues associated with abnormal electrocardiogram (ECG) signals when lying down often involves maintaining good heart health and addressing risk factors. Maintain a Healthy Lifestyle, manage stress, monitor blood pressure and manage cholestrol levels, limit alcohol and caffeine before bed and sleep well."
   ]
  },
  {
   "cell_type": "markdown",
   "id": "d314adf9",
   "metadata": {},
   "source": [
    "### Walking\n",
    "#### issues:\n",
    "a.\tacceleration from the left ankle sensor (Z axis) : Abnormal sensor values for acceleration of the left ankle (Z-axis) when walking can be indicative of various symptoms and health issues related to gait and lower limb function, foot and/or joint problems, pain or discomfort and footwear issues, inflammation, etc.\n",
    "\n",
    "b.\telectrocardiogram signal (lead 2) : Abnormal ECG patterns during exercise can be a sign of reduced blood flow to the heart muscle, which may be due to coronary artery disease (CAD). This can lead to chest pain or angina during physical activity, valvular heart disease. Certain ECG patterns can suggest bundle branch block, which is an electrical conduction issue in the heart. It may lead to irregular heart rhythms and other heart problems.\n",
    "#### Preventive measures:\n",
    "a.\tacceleration from the left ankle sensor (Z axis) : Stay active and exercise, strengthen muscles, maintain a healthy weight, wear proper footwear, pay attention to walking posture, improve balance and fall prevention.\n",
    "\n",
    "b.\telectrocardiogram signal (lead 2) : Regular Check-Ups, warm-up and cool down, stay hydrated and avoid excessive physical exertion (listen to your body and regular rest)."
   ]
  },
  {
   "cell_type": "markdown",
   "id": "04919b96",
   "metadata": {},
   "source": [
    "### Climbing stairs\n",
    "#### issues:\n",
    "electrocardiogram signal : Indicate cardiovascular stress or arrhythmias, warranting medical evaluation. \n",
    "#### Preventive measures:\n",
    "electrocardiogram signal : Before starting your ascent, perform a brief warm-up that includes light aerobic exercise like brisk walking or calf raises. Maintain Good Posture. Allow your arms to naturally swing in rhythm with your steps. Avoid rushing or taking overly large steps, which can lead to undue cardiovascular stress."
   ]
  },
  {
   "cell_type": "markdown",
   "id": "ea576f89",
   "metadata": {},
   "source": [
    "### Waist bends forward\n",
    "#### issues:\n",
    "electrocardiogram signal : Indicate cardiovascular stress or arrhythmias, warranting medical evaluation.\n",
    "#### Preventive measures:\n",
    "electrocardiogram signal : Bend at the hips and knees, not at the waist, to reduce strain on your\n",
    "lower back and minimize the impact on your heart. A strong core can help support  your spine and reduce the risk of back strain when bending forward."
   ]
  },
  {
   "cell_type": "markdown",
   "id": "f40abea1",
   "metadata": {},
   "source": [
    "### Frontal elevation of arms\n",
    "#### issues:\n",
    "a.\tmagnetometer from the right-lower-arm sensor (Z axis) : Conditions like essential tremor, Parkinson's disease, or other movement disorders can cause abnormal arm movements and, in turn, affect magnetometer readings during arm elevation. Neuropathies, nerve compression syndromes, or other nerve disorders affecting the arm's function can result in abnormal sensor values during arm elevation.\n",
    "\n",
    "b.\telectrocardiogram signal (lead 2) : Indicate cardiovascular stress or arrhythmias, warranting medical evaluation.\n",
    "#### Preventive measures:\n",
    "a.\tmagnetometer from the right-lower-arm sensor (Z axis) : Address any underlying neuromuscular conditions through medical evaluation and appropriate treatment. Pay attention to the health of your arm and shoulder joints. Practice stress-reduction techniques, such as relaxation, deep breathing, meditation, or mindfulness, to manage psychological factors that may affect arm movements.\n",
    "\n",
    "b.\telectrocardiogram signal (lead 2) : Be mindful of how you position your arms when raised. Avoid overextending or hyperextending your arms, which can strain your muscles and cardiovascular system. Do not hold your breath when raising your arms. Continue to breathe normally during the movement. If you are taking medications, adhere to your prescribed regimen and discuss potential side effects with your healthcare provider. "
   ]
  },
  {
   "cell_type": "markdown",
   "id": "c9c9907b",
   "metadata": {},
   "source": [
    "### Knees bending (crouching)\n",
    "#### issues:\n",
    "electrocardiogram signal : Indicate cardiovascular stress or arrhythmias, warranting medical evaluation.\n",
    "#### Preventive measures:\n",
    "electrocardiogram signal : Maintain good posture while crouching. Keep your back straight, shoulders relaxed, and knees aligned with your feet. Engage your leg muscles, particularly your quadriceps and hamstrings, to support your body weight when crouching. Avoid placing excessive strain on your lower back. Engage your core muscles to provide stability and protect your lower back when crouching. Distribute your body weight evenly between both legs while crouching to prevent undue stress on one side."
   ]
  },
  {
   "cell_type": "markdown",
   "id": "74e6fc54",
   "metadata": {},
   "source": [
    "### Cycling\n",
    "#### issues:\n",
    "a.\tgyro from the right-lower-arm sensor (Y axis) : Abnormal gyro sensor readings can disrupt your ability to maintain balance and control while cycling. In response to unexpected balance challenges caused by sensor abnormalities, you may inadvertently tense or strain your muscles. This can lead to muscular discomfort, fatigue, or overuse injuries.\n",
    "\n",
    "b.\tgyro from the left-ankle sensor (Z axis) : health issues related to balance problems, coordination difficulties, or neurological disturbances, necessitating medical evaluation.\n",
    "#### Preventive measures:\n",
    "a.\tgyro from the right-lower-arm sensor (Y axis) : Consult a healthcare professional for guidance and diagnosis if experiencing unexpected spikes in the gyro signal during activities like cycling.\n",
    "\n",
    "b.\tgyro from the left-ankle sensor (Z axis) : Seek medical assessment for guidance and diagnosis."
   ]
  },
  {
   "cell_type": "markdown",
   "id": "50ec177c",
   "metadata": {},
   "source": [
    "### Jogging\n",
    "#### issues:\n",
    "a.\telectrocardiogram signal (lead 1) : indicate cardiac stress or arrhythmias, necessitating medical evaluation. \n",
    "\n",
    "b.\tacceleration from the right-lower-arm sensor (Z axis) : Indicate potential health issues related to muscle spasms, tremors, or neurological conditions, requiring medical evaluation for diagnosis and treatment.\n",
    "#### Preventive measures:\n",
    "a.\telectrocardiogram signal (lead 1) : Seek medical evaluation for guidance and further cardiac assessment\n",
    "\n",
    "b.\tacceleration from the right-lower-arm sensor (Z axis) : If experiencing unexplained spikes in acceleration, consult a healthcare professional for assessment and follow their recommendations for necessary precautions or interventions."
   ]
  },
  {
   "cell_type": "markdown",
   "id": "86451dc5",
   "metadata": {},
   "source": [
    "### Running\n",
    "#### issues:\n",
    "a.\telectrocardiogram signal (lead 1) : indicate cardiac stress or arrhythmias, necessitating medical evaluation. \n",
    "\n",
    "b.\tgyro from the right-lower-arm sensor (Y axis) : muscle tremors, balance problems, or neurological disturbances, warranting medical evaluation.\n",
    "#### Preventive measures:\n",
    "a.\telectrocardiogram signal (lead 1) : Seek medical evaluation for guidance and further cardiac assessment\n",
    "\n",
    "b.\tgyro from the right-lower-arm sensor (Y axis) : Consult a healthcare professional for guidance and diagnosis if experiencing unexpected spikes in the gyro signal."
   ]
  },
  {
   "cell_type": "markdown",
   "id": "32dc7c90",
   "metadata": {},
   "source": [
    "### Jump front & back\n",
    "#### issues:\n",
    "a.\telectrocardiogram signal (lead 1) : indicate cardiac stress or arrhythmias, necessitating medical evaluation. \n",
    "\n",
    "b.\tacceleration from the chest sensor (Z axis) : issues related to physical stress, muscular strain, or imbalance, necessitating medical evaluation.\n",
    "#### Preventive measures:\n",
    "a.\telectrocardiogram signal (lead 1) : Seek medical evaluation for guidance and further cardiac assessment\n",
    "\n",
    "b.\tacceleration from the chest sensor (Z axis) : Consult a healthcare professional for guidance and diagnosis."
   ]
  }
 ],
 "metadata": {
  "kernelspec": {
   "display_name": "Python 3 (ipykernel)",
   "language": "python",
   "name": "python3"
  },
  "language_info": {
   "codemirror_mode": {
    "name": "ipython",
    "version": 3
   },
   "file_extension": ".py",
   "mimetype": "text/x-python",
   "name": "python",
   "nbconvert_exporter": "python",
   "pygments_lexer": "ipython3",
   "version": "3.9.12"
  }
 },
 "nbformat": 4,
 "nbformat_minor": 5
}
